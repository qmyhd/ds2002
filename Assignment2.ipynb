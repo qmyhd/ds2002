{
 "cells": [
  {
   "cell_type": "code",
   "execution_count": 2,
   "id": "fe26c880-fc2f-4ad5-915b-97a47f915dd2",
   "metadata": {},
   "outputs": [],
   "source": [
    "import mysql.connector\n",
    "from mysql.connector import Error\n",
    "import pandas as pd\n",
    "import requests\n",
    "import os\n",
    "import json\n",
    "import pprint\n",
    "import requests.exceptions\n",
    "import datetime\n",
    "import matplotlib.pyplot as plt"
   ]
  },
  {
   "cell_type": "code",
   "execution_count": 3,
   "id": "72bba8f5-76c9-4007-823d-bb30b882838d",
   "metadata": {},
   "outputs": [],
   "source": [
    "# Name: Qais Yousef"
   ]
  },
  {
   "cell_type": "code",
   "execution_count": 17,
   "id": "0cc99bf4-7df2-4692-b310-470bd83cc62e",
   "metadata": {},
   "outputs": [
    {
     "name": "stdin",
     "output_type": "stream",
     "text": [
      " ACICU\n"
     ]
    }
   ],
   "source": [
    "    stock = str(input())\n",
    "\n",
    "    apikey=\"crET8qUofRh2JUJSldzQ6bXtjuY0bxP1RdGppzni\"\n",
    "    headers = {\n",
    "    'x-api-key': apikey\n",
    "    }\n",
    "    querystring = {\"symbols\":stock}    \n",
    "\n",
    "    url   = \"https://yfapi.net/v6/finance/quote\"\n",
    "    url_2 = \"https://yfapi.net/v6/finance/quote?region=US&lang=en&symbols=\"+stock\n",
    "    url_3 = \"https://yfapi.net/v11/finance/quoteSummary/\" + stock + \"?lang=en&region=US&modules=defaultKeyStatistics%2CassetProfile\"\n",
    "    url_4 = \"https://yfapi.net/ws/insights/v1/finance/insights?symbol=\"+stock \n",
    "    url_5 = \"https://yfapi.net/v11/finance/quoteSummary/\" + stock + \"?lang=en&region=US&modules=balanceSheetHistory\"\n",
    "    url_6 = \"https://yfapi.net/v11/finance/quoteSummary/\" + stock + \"?lang=en&region=US&modules=incomeStatementHistory\"\n",
    "    url_7 = \"https://yfapi.net/v8/finance/chart/\" + stock + \"?range=5d&region=US&interval=1d&lang=en&events=div%2Csplit\"\n",
    "\n",
    "    \n",
    "    response1 = requests.request(\"GET\", url, headers=headers, params=querystring)\n",
    "    response2 = requests.request(\"GET\", url_2, headers=headers, params=querystring)\n",
    "    response3 = requests.request(\"GET\", url_3, headers=headers, params=querystring)\n",
    "    response4 = requests.request(\"GET\", url_4, headers=headers, params=querystring)\n",
    "    response5 = requests.request(\"GET\", url_5, headers=headers, params=querystring)\n",
    "    response6 = requests.request(\"GET\", url_6, headers=headers, params=querystring)\n",
    "    response7 = requests.request(\"GET\", url_7, headers=headers, params=querystring)\n",
    "\n",
    "\n",
    "\n",
    "\n",
    "    data1 = response1.json()\n",
    "    data2 = response2.json()\n",
    "    data3 = response3.json()\n",
    "    data4 = response4.json()\n",
    "    data5 = response5.json()\n",
    "    data6 = response6.json()\n",
    "    data7 = response7.json()"
   ]
  },
  {
   "cell_type": "code",
   "execution_count": 10,
   "id": "a9d26dc7-be1d-4ba5-9903-0c88b91aacf8",
   "metadata": {},
   "outputs": [],
   "source": [
    "def get_api_response(url, response_type):\n",
    "    try:\n",
    "        response = requests.get(url, response_type)\n",
    "        response.raise_for_status()\n",
    "    \n",
    "    except requests.exceptions.HTTPError as errh:\n",
    "        return \"An Http Error occurred: \" + repr(errh)\n",
    "    except requests.exceptions.ConnectionError as errc:\n",
    "        return \"An Error Connecting to the API occurred: \" + repr(errc)\n",
    "    except requests.exceptions.Timeout as errt:\n",
    "        return \"A Timeout Error occurred: \" + repr(errt)\n",
    "    except requests.exceptions.InvalidHeader as erri:\n",
    "        return \"A Header Error occurred: \" + repr(erri)\n",
    "    except requests.exceptions.RequestException as err:\n",
    "        return \"An Unknown Error occurred: \" + repr(err)\n",
    "        \n",
    "    return response.json()"
   ]
  },
  {
   "cell_type": "code",
   "execution_count": 18,
   "id": "1d1d28ba-4083-4d02-b988-b1febf1a9803",
   "metadata": {},
   "outputs": [
    {
     "ename": "KeyError",
     "evalue": "'regularMarketPrice'",
     "output_type": "error",
     "traceback": [
      "\u001b[1;31m---------------------------------------------------------------------------\u001b[0m",
      "\u001b[1;31mKeyError\u001b[0m                                  Traceback (most recent call last)",
      "Input \u001b[1;32mIn [18]\u001b[0m, in \u001b[0;36m<cell line: 19>\u001b[1;34m()\u001b[0m\n\u001b[0;32m      9\u001b[0m     revenue \u001b[38;5;241m=\u001b[39m data6[\u001b[38;5;124m'\u001b[39m\u001b[38;5;124mquoteSummary\u001b[39m\u001b[38;5;124m'\u001b[39m][\u001b[38;5;124m'\u001b[39m\u001b[38;5;124mresult\u001b[39m\u001b[38;5;124m'\u001b[39m][\u001b[38;5;241m0\u001b[39m][\u001b[38;5;124m'\u001b[39m\u001b[38;5;124mincomeStatementHistory\u001b[39m\u001b[38;5;124m'\u001b[39m][\u001b[38;5;124m'\u001b[39m\u001b[38;5;124mincomeStatementHistory\u001b[39m\u001b[38;5;124m'\u001b[39m][\u001b[38;5;241m0\u001b[39m][\u001b[38;5;124m'\u001b[39m\u001b[38;5;124mtotalRevenue\u001b[39m\u001b[38;5;124m'\u001b[39m][\u001b[38;5;124m'\u001b[39m\u001b[38;5;124mraw\u001b[39m\u001b[38;5;124m'\u001b[39m]\n\u001b[0;32m     10\u001b[0m     \u001b[38;5;28;01mreturn\u001b[39;00m {\n\u001b[0;32m     11\u001b[0m         \u001b[38;5;124m'\u001b[39m\u001b[38;5;124mTicker Symbol\u001b[39m\u001b[38;5;124m'\u001b[39m: ticker,\n\u001b[0;32m     12\u001b[0m         \u001b[38;5;124m'\u001b[39m\u001b[38;5;124mFull Name\u001b[39m\u001b[38;5;124m'\u001b[39m: full_name,\n\u001b[1;32m   (...)\u001b[0m\n\u001b[0;32m     17\u001b[0m         \u001b[38;5;124m'\u001b[39m\u001b[38;5;124mLast Accessed\u001b[39m\u001b[38;5;124m'\u001b[39m: datetime\u001b[38;5;241m.\u001b[39mdatetime\u001b[38;5;241m.\u001b[39mnow()\u001b[38;5;241m.\u001b[39mstrftime(\u001b[38;5;124m'\u001b[39m\u001b[38;5;124m%\u001b[39m\u001b[38;5;124mY-\u001b[39m\u001b[38;5;124m%\u001b[39m\u001b[38;5;124mm-\u001b[39m\u001b[38;5;132;01m%d\u001b[39;00m\u001b[38;5;124m \u001b[39m\u001b[38;5;124m%\u001b[39m\u001b[38;5;124mH:\u001b[39m\u001b[38;5;124m%\u001b[39m\u001b[38;5;124mM:\u001b[39m\u001b[38;5;124m%\u001b[39m\u001b[38;5;124mS\u001b[39m\u001b[38;5;124m'\u001b[39m)\n\u001b[0;32m     18\u001b[0m     }\n\u001b[1;32m---> 19\u001b[0m \u001b[43mget_stock_info\u001b[49m\u001b[43m(\u001b[49m\u001b[43m)\u001b[49m\n",
      "Input \u001b[1;32mIn [18]\u001b[0m, in \u001b[0;36mget_stock_info\u001b[1;34m()\u001b[0m\n\u001b[0;32m      3\u001b[0m ticker \u001b[38;5;241m=\u001b[39m data1[\u001b[38;5;124m'\u001b[39m\u001b[38;5;124mquoteResponse\u001b[39m\u001b[38;5;124m'\u001b[39m][\u001b[38;5;124m'\u001b[39m\u001b[38;5;124mresult\u001b[39m\u001b[38;5;124m'\u001b[39m][\u001b[38;5;241m0\u001b[39m][\u001b[38;5;124m'\u001b[39m\u001b[38;5;124msymbol\u001b[39m\u001b[38;5;124m'\u001b[39m]\n\u001b[0;32m      4\u001b[0m full_name \u001b[38;5;241m=\u001b[39m data1[\u001b[38;5;124m'\u001b[39m\u001b[38;5;124mquoteResponse\u001b[39m\u001b[38;5;124m'\u001b[39m][\u001b[38;5;124m'\u001b[39m\u001b[38;5;124mresult\u001b[39m\u001b[38;5;124m'\u001b[39m][\u001b[38;5;241m0\u001b[39m][\u001b[38;5;124m'\u001b[39m\u001b[38;5;124mlongName\u001b[39m\u001b[38;5;124m'\u001b[39m]\n\u001b[1;32m----> 5\u001b[0m current_price \u001b[38;5;241m=\u001b[39m \u001b[43mdata1\u001b[49m\u001b[43m[\u001b[49m\u001b[38;5;124;43m'\u001b[39;49m\u001b[38;5;124;43mquoteResponse\u001b[39;49m\u001b[38;5;124;43m'\u001b[39;49m\u001b[43m]\u001b[49m\u001b[43m[\u001b[49m\u001b[38;5;124;43m'\u001b[39;49m\u001b[38;5;124;43mresult\u001b[39;49m\u001b[38;5;124;43m'\u001b[39;49m\u001b[43m]\u001b[49m\u001b[43m[\u001b[49m\u001b[38;5;241;43m0\u001b[39;49m\u001b[43m]\u001b[49m\u001b[43m[\u001b[49m\u001b[38;5;124;43m'\u001b[39;49m\u001b[38;5;124;43mregularMarketPrice\u001b[39;49m\u001b[38;5;124;43m'\u001b[39;49m\u001b[43m]\u001b[49m\n\u001b[0;32m      6\u001b[0m target_mean_price \u001b[38;5;241m=\u001b[39m data4[\u001b[38;5;124m'\u001b[39m\u001b[38;5;124mfinance\u001b[39m\u001b[38;5;124m'\u001b[39m][\u001b[38;5;124m'\u001b[39m\u001b[38;5;124mresult\u001b[39m\u001b[38;5;124m'\u001b[39m][\u001b[38;5;124m'\u001b[39m\u001b[38;5;124minstrumentInfo\u001b[39m\u001b[38;5;124m'\u001b[39m][\u001b[38;5;124m'\u001b[39m\u001b[38;5;124mrecommendation\u001b[39m\u001b[38;5;124m'\u001b[39m][\u001b[38;5;124m'\u001b[39m\u001b[38;5;124mtargetPrice\u001b[39m\u001b[38;5;124m'\u001b[39m]\n\u001b[0;32m      7\u001b[0m cash_on_hand \u001b[38;5;241m=\u001b[39m data5[\u001b[38;5;124m'\u001b[39m\u001b[38;5;124mquoteSummary\u001b[39m\u001b[38;5;124m'\u001b[39m][\u001b[38;5;124m'\u001b[39m\u001b[38;5;124mresult\u001b[39m\u001b[38;5;124m'\u001b[39m][\u001b[38;5;241m0\u001b[39m][\u001b[38;5;124m'\u001b[39m\u001b[38;5;124mbalanceSheetHistory\u001b[39m\u001b[38;5;124m'\u001b[39m][\u001b[38;5;124m'\u001b[39m\u001b[38;5;124mbalanceSheetStatements\u001b[39m\u001b[38;5;124m'\u001b[39m][\u001b[38;5;241m0\u001b[39m][\u001b[38;5;124m'\u001b[39m\u001b[38;5;124mcash\u001b[39m\u001b[38;5;124m'\u001b[39m][\u001b[38;5;124m'\u001b[39m\u001b[38;5;124mlongFmt\u001b[39m\u001b[38;5;124m'\u001b[39m]\n",
      "\u001b[1;31mKeyError\u001b[0m: 'regularMarketPrice'"
     ]
    }
   ],
   "source": [
    "def get_stock_info():\n",
    "    \n",
    "    ticker = data1['quoteResponse']['result'][0]['symbol']\n",
    "    full_name = data1['quoteResponse']['result'][0]['longName']\n",
    "    current_price = data1['quoteResponse']['result'][0]['regularMarketPrice']\n",
    "    target_mean_price = data4['finance']['result']['instrumentInfo']['recommendation']['targetPrice']\n",
    "    cash_on_hand = data5['quoteSummary']['result'][0]['balanceSheetHistory']['balanceSheetStatements'][0]['cash']['longFmt']\n",
    "    net_income = data6['quoteSummary']['result'][0]['incomeStatementHistory']['incomeStatementHistory'][0]['netIncome']['raw']\n",
    "    revenue = data6['quoteSummary']['result'][0]['incomeStatementHistory']['incomeStatementHistory'][0]['totalRevenue']['raw']\n",
    "    return {\n",
    "        'Ticker Symbol': ticker,\n",
    "        'Full Name': full_name,\n",
    "        'Current Price': current_price,\n",
    "        'Target Mean Price': target_mean_price,\n",
    "        'Cash on Hand': cash_on_hand,\n",
    "        'Profit Margins': (net_income/revenue)*100,\n",
    "        'Last Accessed': datetime.datetime.now().strftime('%Y-%m-%d %H:%M:%S')\n",
    "    }\n",
    "get_stock_info()"
   ]
  },
  {
   "cell_type": "code",
   "execution_count": null,
   "id": "b5133393-1f6b-4748-88c6-18336de8c679",
   "metadata": {},
   "outputs": [],
   "source": []
  },
  {
   "cell_type": "code",
   "execution_count": 12,
   "id": "2e81cb2b-7011-4735-ab57-74e70bffaa72",
   "metadata": {},
   "outputs": [
    {
     "ename": "KeyError",
     "evalue": "'recommendation'",
     "output_type": "error",
     "traceback": [
      "\u001b[1;31m---------------------------------------------------------------------------\u001b[0m",
      "\u001b[1;31mKeyError\u001b[0m                                  Traceback (most recent call last)",
      "Input \u001b[1;32mIn [12]\u001b[0m, in \u001b[0;36m<cell line: 1>\u001b[1;34m()\u001b[0m\n\u001b[1;32m----> 1\u001b[0m stock_info \u001b[38;5;241m=\u001b[39m \u001b[43mget_stock_info\u001b[49m\u001b[43m(\u001b[49m\u001b[43m)\u001b[49m\n\u001b[0;32m      2\u001b[0m stock_df \u001b[38;5;241m=\u001b[39m pd\u001b[38;5;241m.\u001b[39mDataFrame\u001b[38;5;241m.\u001b[39mfrom_dict([stock_info])\n\u001b[0;32m      3\u001b[0m stock_df\n",
      "Input \u001b[1;32mIn [11]\u001b[0m, in \u001b[0;36mget_stock_info\u001b[1;34m()\u001b[0m\n\u001b[0;32m      4\u001b[0m full_name \u001b[38;5;241m=\u001b[39m data1[\u001b[38;5;124m'\u001b[39m\u001b[38;5;124mquoteResponse\u001b[39m\u001b[38;5;124m'\u001b[39m][\u001b[38;5;124m'\u001b[39m\u001b[38;5;124mresult\u001b[39m\u001b[38;5;124m'\u001b[39m][\u001b[38;5;241m0\u001b[39m][\u001b[38;5;124m'\u001b[39m\u001b[38;5;124mlongName\u001b[39m\u001b[38;5;124m'\u001b[39m]\n\u001b[0;32m      5\u001b[0m current_price \u001b[38;5;241m=\u001b[39m data1[\u001b[38;5;124m'\u001b[39m\u001b[38;5;124mquoteResponse\u001b[39m\u001b[38;5;124m'\u001b[39m][\u001b[38;5;124m'\u001b[39m\u001b[38;5;124mresult\u001b[39m\u001b[38;5;124m'\u001b[39m][\u001b[38;5;241m0\u001b[39m][\u001b[38;5;124m'\u001b[39m\u001b[38;5;124mregularMarketPrice\u001b[39m\u001b[38;5;124m'\u001b[39m]\n\u001b[1;32m----> 6\u001b[0m target_mean_price \u001b[38;5;241m=\u001b[39m \u001b[43mdata4\u001b[49m\u001b[43m[\u001b[49m\u001b[38;5;124;43m'\u001b[39;49m\u001b[38;5;124;43mfinance\u001b[39;49m\u001b[38;5;124;43m'\u001b[39;49m\u001b[43m]\u001b[49m\u001b[43m[\u001b[49m\u001b[38;5;124;43m'\u001b[39;49m\u001b[38;5;124;43mresult\u001b[39;49m\u001b[38;5;124;43m'\u001b[39;49m\u001b[43m]\u001b[49m\u001b[43m[\u001b[49m\u001b[38;5;124;43m'\u001b[39;49m\u001b[38;5;124;43minstrumentInfo\u001b[39;49m\u001b[38;5;124;43m'\u001b[39;49m\u001b[43m]\u001b[49m\u001b[43m[\u001b[49m\u001b[38;5;124;43m'\u001b[39;49m\u001b[38;5;124;43mrecommendation\u001b[39;49m\u001b[38;5;124;43m'\u001b[39;49m\u001b[43m]\u001b[49m[\u001b[38;5;124m'\u001b[39m\u001b[38;5;124mtargetPrice\u001b[39m\u001b[38;5;124m'\u001b[39m]\n\u001b[0;32m      7\u001b[0m cash_on_hand \u001b[38;5;241m=\u001b[39m data5[\u001b[38;5;124m'\u001b[39m\u001b[38;5;124mquoteSummary\u001b[39m\u001b[38;5;124m'\u001b[39m][\u001b[38;5;124m'\u001b[39m\u001b[38;5;124mresult\u001b[39m\u001b[38;5;124m'\u001b[39m][\u001b[38;5;241m0\u001b[39m][\u001b[38;5;124m'\u001b[39m\u001b[38;5;124mbalanceSheetHistory\u001b[39m\u001b[38;5;124m'\u001b[39m][\u001b[38;5;124m'\u001b[39m\u001b[38;5;124mbalanceSheetStatements\u001b[39m\u001b[38;5;124m'\u001b[39m][\u001b[38;5;241m0\u001b[39m][\u001b[38;5;124m'\u001b[39m\u001b[38;5;124mcash\u001b[39m\u001b[38;5;124m'\u001b[39m][\u001b[38;5;124m'\u001b[39m\u001b[38;5;124mlongFmt\u001b[39m\u001b[38;5;124m'\u001b[39m]\n\u001b[0;32m      8\u001b[0m net_income \u001b[38;5;241m=\u001b[39m data6[\u001b[38;5;124m'\u001b[39m\u001b[38;5;124mquoteSummary\u001b[39m\u001b[38;5;124m'\u001b[39m][\u001b[38;5;124m'\u001b[39m\u001b[38;5;124mresult\u001b[39m\u001b[38;5;124m'\u001b[39m][\u001b[38;5;241m0\u001b[39m][\u001b[38;5;124m'\u001b[39m\u001b[38;5;124mincomeStatementHistory\u001b[39m\u001b[38;5;124m'\u001b[39m][\u001b[38;5;124m'\u001b[39m\u001b[38;5;124mincomeStatementHistory\u001b[39m\u001b[38;5;124m'\u001b[39m][\u001b[38;5;241m0\u001b[39m][\u001b[38;5;124m'\u001b[39m\u001b[38;5;124mnetIncome\u001b[39m\u001b[38;5;124m'\u001b[39m][\u001b[38;5;124m'\u001b[39m\u001b[38;5;124mraw\u001b[39m\u001b[38;5;124m'\u001b[39m]\n",
      "\u001b[1;31mKeyError\u001b[0m: 'recommendation'"
     ]
    }
   ],
   "source": [
    "stock_info = get_stock_info()\n",
    "stock_df = pd.DataFrame.from_dict([stock_info])\n",
    "stock_df"
   ]
  },
  {
   "cell_type": "code",
   "execution_count": 8,
   "id": "7fbebc4d-de5a-4374-b7dc-d81e46f58e8a",
   "metadata": {},
   "outputs": [],
   "source": [
    "stock_df.to_json(\"Stocks.json\", indent = 4)"
   ]
  },
  {
   "cell_type": "code",
   "execution_count": 9,
   "id": "cfa55f90-ba10-404f-9fc0-ac850d84d4e2",
   "metadata": {},
   "outputs": [
    {
     "name": "stdout",
     "output_type": "stream",
     "text": [
      "An Http Error occurred: HTTPError('403 Client Error: Forbidden for url: https://yfapi.net/v6/finance/quote?region=US&lang=en&symbols=AAPL&json')\n"
     ]
    }
   ],
   "source": [
    "response_type = ['json', 'dataframe']\n",
    "\n",
    "def exc_handle(url, response_type):\n",
    "    json_string = get_api_response(url,response_type)\n",
    "    return print(json_string)\n",
    "exc_handle(url_2,response_type[0])"
   ]
  },
  {
   "cell_type": "code",
   "execution_count": 10,
   "id": "250a561c-9e63-4e3c-ab92-9be37ad47737",
   "metadata": {},
   "outputs": [
    {
     "data": {
      "image/png": "[encoded data removed]",
      "text/plain": [
       "<Figure size 432x288 with 1 Axes>"
      ]
     },
     "metadata": {
      "needs_background": "light"
     },
     "output_type": "display_data"
    }
   ],
   "source": [
    "day5 = data7['chart']['result'][0]['indicators']['quote'][0]['high'][4]\n",
    "day4 = data7['chart']['result'][0]['indicators']['quote'][0]['high'][3]\n",
    "day3 = data7['chart']['result'][0]['indicators']['quote'][0]['high'][2]\n",
    "day2 = data7['chart']['result'][0]['indicators']['quote'][0]['high'][1]\n",
    "today = data7['chart']['result'][0]['indicators']['quote'][0]['high'][0]\n",
    "\n",
    "plt.plot([\"5\",\"4\",\"3\",\"2\",\"Today\"],[day5, day4, day3, day2, today])\n",
    "plt.xlabel(\"Number of days\")\n",
    "plt.ylabel(\"Price in $\")\n",
    "plt.show()"
   ]
  },
  {
   "cell_type": "code",
   "execution_count": null,
   "id": "67582eb1-fd9e-42d5-8d3d-3de8fda02c82",
   "metadata": {},
   "outputs": [],
   "source": []
  }
 ],
 "metadata": {
  "kernelspec": {
   "display_name": "Python 3 (ipykernel)",
   "language": "python",
   "name": "python3"
  },
  "language_info": {
   "codemirror_mode": {
    "name": "ipython",
    "version": 3
   },
   "file_extension": ".py",
   "mimetype": "text/x-python",
   "name": "python",
   "nbconvert_exporter": "python",
   "pygments_lexer": "ipython3",
   "version": "3.8.13"
  }
 },
 "nbformat": 4,
 "nbformat_minor": 5
}
