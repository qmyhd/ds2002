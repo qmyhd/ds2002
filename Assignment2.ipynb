{
 "cells": [
  {
   "cell_type": "code",
   "execution_count": null,
   "id": "fe26c880-fc2f-4ad5-915b-97a47f915dd2",
   "metadata": {},
   "outputs": [],
   "source": [
    "import mysql.connector\n",
    "from mysql.connector import Error\n",
    "import pandas as pd\n",
    "import requests\n",
    "import os\n",
    "import json\n",
    "import pprint\n",
    "import requests.exceptions\n",
    "import datetime\n",
    "import matplotlib.pyplot as plt"
   ]
  },
  {
   "cell_type": "code",
   "execution_count": null,
   "id": "72bba8f5-76c9-4007-823d-bb30b882838d",
   "metadata": {},
   "outputs": [],
   "source": [
    "# Name: Qais Yousef"
   ]
  },
  {
   "cell_type": "code",
   "execution_count": null,
   "id": "0cc99bf4-7df2-4692-b310-470bd83cc62e",
   "metadata": {},
   "outputs": [],
   "source": [
    "    stock = str(input())\n",
    "\n",
    "    apikey=\"crET8qUofRh2JUJSldzQ6bXtjuY0bxP1RdGppzni\"\n",
    "    headers = {\n",
    "    'x-api-key': apikey\n",
    "    }\n",
    "    querystring = {\"symbols\":stock}    \n",
    "\n",
    "    url   = \"https://yfapi.net/v6/finance/quote\"\n",
    "    url_2 = \"https://yfapi.net/v6/finance/quote?region=US&lang=en&symbols=\"+stock\n",
    "    url_3 = \"https://yfapi.net/v11/finance/quoteSummary/\" + stock + \"?lang=en&region=US&modules=defaultKeyStatistics%2CassetProfile\"\n",
    "    url_4 = \"https://yfapi.net/ws/insights/v1/finance/insights?symbol=\"+stock \n",
    "    url_5 = \"https://yfapi.net/v11/finance/quoteSummary/\" + stock + \"?lang=en&region=US&modules=balanceSheetHistory\"\n",
    "    url_6 = \"https://yfapi.net/v11/finance/quoteSummary/\" + stock + \"?lang=en&region=US&modules=incomeStatementHistory\"\n",
    "    url_7 = \"https://yfapi.net/v8/finance/chart/\" + stock + \"?range=5d&region=US&interval=1d&lang=en&events=div%2Csplit\"\n",
    "\n",
    "    \n",
    "    response1 = requests.request(\"GET\", url, headers=headers, params=querystring)\n",
    "    response2 = requests.request(\"GET\", url_2, headers=headers, params=querystring)\n",
    "    response3 = requests.request(\"GET\", url_3, headers=headers, params=querystring)\n",
    "    response4 = requests.request(\"GET\", url_4, headers=headers, params=querystring)\n",
    "    response5 = requests.request(\"GET\", url_5, headers=headers, params=querystring)\n",
    "    response6 = requests.request(\"GET\", url_6, headers=headers, params=querystring)\n",
    "    response7 = requests.request(\"GET\", url_7, headers=headers, params=querystring)\n",
    "\n",
    "\n",
    "\n",
    "\n",
    "    data1 = response1.json()\n",
    "    data2 = response2.json()\n",
    "    data3 = response3.json()\n",
    "    data4 = response4.json()\n",
    "    data5 = response5.json()\n",
    "    data6 = response6.json()\n",
    "    data7 = response7.json()"
   ]
  },
  {
   "cell_type": "code",
   "execution_count": null,
   "id": "a9d26dc7-be1d-4ba5-9903-0c88b91aacf8",
   "metadata": {},
   "outputs": [],
   "source": [
    "def get_api_response(url, response_type):\n",
    "    try:\n",
    "        response = requests.get(url, response_type)\n",
    "        response.raise_for_status()\n",
    "    \n",
    "    except requests.exceptions.HTTPError as errh:\n",
    "        return \"An Http Error occurred: \" + repr(errh)\n",
    "    except requests.exceptions.ConnectionError as errc:\n",
    "        return \"An Error Connecting to the API occurred: \" + repr(errc)\n",
    "    except requests.exceptions.Timeout as errt:\n",
    "        return \"A Timeout Error occurred: \" + repr(errt)\n",
    "    except requests.exceptions.InvalidHeader as erri:\n",
    "        return \"A Header Error occurred: \" + repr(erri)\n",
    "    except requests.exceptions.RequestException as err:\n",
    "        return \"An Unknown Error occurred: \" + repr(err)\n",
    "        \n",
    "    return response.json()"
   ]
  },
  {
   "cell_type": "code",
   "execution_count": null,
   "id": "1d1d28ba-4083-4d02-b988-b1febf1a9803",
   "metadata": {},
   "outputs": [],
   "source": [
    "def get_stock_info():\n",
    "    \n",
    "    ticker = data1['quoteResponse']['result'][0]['symbol']\n",
    "    full_name = data1['quoteResponse']['result'][0]['longName']\n",
    "    current_price = data1['quoteResponse']['result'][0]['regularMarketPrice']\n",
    "    target_mean_price = data4['finance']['result']['instrumentInfo']['recommendation']['targetPrice']\n",
    "    cash_on_hand = data5['quoteSummary']['result'][0]['balanceSheetHistory']['balanceSheetStatements'][0]['cash']['longFmt']\n",
    "    net_income = data6['quoteSummary']['result'][0]['incomeStatementHistory']['incomeStatementHistory'][0]['netIncome']['raw']\n",
    "    revenue = data6['quoteSummary']['result'][0]['incomeStatementHistory']['incomeStatementHistory'][0]['totalRevenue']['raw']\n",
    "    return {\n",
    "        'Ticker Symbol': ticker,\n",
    "        'Full Name': full_name,\n",
    "        'Current Price': current_price,\n",
    "        'Target Mean Price': target_mean_price,\n",
    "        'Cash on Hand': cash_on_hand,\n",
    "        'Profit Margins': (net_income/revenue)*100,\n",
    "        'Last Accessed': datetime.datetime.now().strftime('%Y-%m-%d %H:%M:%S')\n",
    "    }\n",
    "get_stock_info()"
   ]
  },
  {
   "cell_type": "code",
   "execution_count": null,
   "id": "b5133393-1f6b-4748-88c6-18336de8c679",
   "metadata": {},
   "outputs": [],
   "source": []
  },
  {
   "cell_type": "code",
   "execution_count": null,
   "id": "2e81cb2b-7011-4735-ab57-74e70bffaa72",
   "metadata": {},
   "outputs": [],
   "source": [
    "stock_info = get_stock_info()\n",
    "stock_df = pd.DataFrame.from_dict([stock_info])\n",
    "stock_df"
   ]
  },
  {
   "cell_type": "code",
   "execution_count": null,
   "id": "7fbebc4d-de5a-4374-b7dc-d81e46f58e8a",
   "metadata": {},
   "outputs": [],
   "source": [
    "stock_df.to_json(\"Stocks.json\", indent = 4)"
   ]
  },
  {
   "cell_type": "code",
   "execution_count": null,
   "id": "cfa55f90-ba10-404f-9fc0-ac850d84d4e2",
   "metadata": {},
   "outputs": [],
   "source": [
    "response_type = ['json', 'dataframe']\n",
    "\n",
    "def exc_handle(url, response_type):\n",
    "    json_string = get_api_response(url,response_type)\n",
    "    return print(json_string)\n",
    "exc_handle(url_2,response_type[0])"
   ]
  },
  {
   "cell_type": "code",
   "execution_count": null,
   "id": "250a561c-9e63-4e3c-ab92-9be37ad47737",
   "metadata": {},
   "outputs": [],
   "source": [
    "day5 = data7['chart']['result'][0]['indicators']['quote'][0]['high'][4]\n",
    "day4 = data7['chart']['result'][0]['indicators']['quote'][0]['high'][3]\n",
    "day3 = data7['chart']['result'][0]['indicators']['quote'][0]['high'][2]\n",
    "day2 = data7['chart']['result'][0]['indicators']['quote'][0]['high'][1]\n",
    "today = data7['chart']['result'][0]['indicators']['quote'][0]['high'][0]\n",
    "\n",
    "plt.plot([\"5\",\"4\",\"3\",\"2\",\"Today\"],[day5, day4, day3, day2, today])\n",
    "plt.xlabel(\"Number of days\")\n",
    "plt.ylabel(\"Price in $\")\n",
    "plt.show()"
   ]
  },
  {
   "cell_type": "code",
   "execution_count": null,
   "id": "67582eb1-fd9e-42d5-8d3d-3de8fda02c82",
   "metadata": {},
   "outputs": [],
   "source": []
  }
 ],
 "metadata": {
  "kernelspec": {
   "display_name": "Python 3 (ipykernel)",
   "language": "python",
   "name": "python3"
  },
  "language_info": {
   "codemirror_mode": {
    "name": "ipython",
    "version": 3
   },
   "file_extension": ".py",
   "mimetype": "text/x-python",
   "name": "python",
   "nbconvert_exporter": "python",
   "pygments_lexer": "ipython3",
   "version": "3.8.13"
  }
 },
 "nbformat": 4,
 "nbformat_minor": 5
}
